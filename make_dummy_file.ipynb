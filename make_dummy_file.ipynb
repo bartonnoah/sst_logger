{
 "cells": [
  {
   "cell_type": "code",
   "execution_count": 1,
   "metadata": {},
   "outputs": [],
   "source": [
    "import pandas as pd\n",
    "import numpy as np"
   ]
  },
  {
   "cell_type": "code",
   "execution_count": 3,
   "metadata": {},
   "outputs": [
    {
     "data": {
      "text/html": [
       "<div>\n",
       "<style scoped>\n",
       "    .dataframe tbody tr th:only-of-type {\n",
       "        vertical-align: middle;\n",
       "    }\n",
       "\n",
       "    .dataframe tbody tr th {\n",
       "        vertical-align: top;\n",
       "    }\n",
       "\n",
       "    .dataframe thead th {\n",
       "        text-align: right;\n",
       "    }\n",
       "</style>\n",
       "<table border=\"1\" class=\"dataframe\">\n",
       "  <thead>\n",
       "    <tr style=\"text-align: right;\">\n",
       "      <th></th>\n",
       "      <th>lat</th>\n",
       "      <th>lon</th>\n",
       "      <th>sst</th>\n",
       "    </tr>\n",
       "  </thead>\n",
       "  <tbody>\n",
       "    <tr>\n",
       "      <th>0</th>\n",
       "      <td>31.415507</td>\n",
       "      <td>-116.834440</td>\n",
       "      <td>17.073551</td>\n",
       "    </tr>\n",
       "    <tr>\n",
       "      <th>1</th>\n",
       "      <td>32.720499</td>\n",
       "      <td>-117.882048</td>\n",
       "      <td>17.165569</td>\n",
       "    </tr>\n",
       "    <tr>\n",
       "      <th>2</th>\n",
       "      <td>32.049375</td>\n",
       "      <td>-117.103114</td>\n",
       "      <td>17.603409</td>\n",
       "    </tr>\n",
       "    <tr>\n",
       "      <th>3</th>\n",
       "      <td>32.075971</td>\n",
       "      <td>-116.091885</td>\n",
       "      <td>17.358443</td>\n",
       "    </tr>\n",
       "    <tr>\n",
       "      <th>4</th>\n",
       "      <td>31.966833</td>\n",
       "      <td>-117.017405</td>\n",
       "      <td>17.526549</td>\n",
       "    </tr>\n",
       "  </tbody>\n",
       "</table>\n",
       "</div>"
      ],
      "text/plain": [
       "         lat         lon        sst\n",
       "0  31.415507 -116.834440  17.073551\n",
       "1  32.720499 -117.882048  17.165569\n",
       "2  32.049375 -117.103114  17.603409\n",
       "3  32.075971 -116.091885  17.358443\n",
       "4  31.966833 -117.017405  17.526549"
      ]
     },
     "execution_count": 3,
     "metadata": {},
     "output_type": "execute_result"
    }
   ],
   "source": [
    "df = pd.DataFrame(columns=['lat', 'lon', 'sst'])\n",
    "df.lat = np.random.uniform(31, 33, 10000) #arguments are (lo, hi, size).  Just change hi & lo\n",
    "df.lon = np.random.uniform(-118, -116, 10000)\n",
    "df.sst = np.random.uniform(17, 18, 10000)\n",
    "df.to_csv('dummy_file.csv')\n",
    "df.head()"
   ]
  }
 ],
 "metadata": {
  "kernelspec": {
   "display_name": "Python 3",
   "language": "python",
   "name": "python3"
  },
  "language_info": {
   "codemirror_mode": {
    "name": "ipython",
    "version": 3
   },
   "file_extension": ".py",
   "mimetype": "text/x-python",
   "name": "python",
   "nbconvert_exporter": "python",
   "pygments_lexer": "ipython3",
   "version": "3.11.5"
  }
 },
 "nbformat": 4,
 "nbformat_minor": 2
}
